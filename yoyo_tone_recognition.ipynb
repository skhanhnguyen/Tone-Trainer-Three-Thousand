{
 "cells": [
  {
   "cell_type": "code",
   "execution_count": 1,
   "metadata": {
    "collapsed": true
   },
   "outputs": [],
   "source": [
    "import numpy as np\n",
    "import pandas as pd\n",
    "\n",
    "\n",
    "from sklearn.pipeline import Pipeline\n",
    "from sklearn.preprocessing import StandardScaler\n",
    "from sklearn.svm import SVC"
   ]
  },
  {
   "cell_type": "markdown",
   "metadata": {},
   "source": [
    "Inputs: 'X' and 'y'"
   ]
  },
  {
   "cell_type": "code",
   "execution_count": 3,
   "metadata": {},
   "outputs": [],
   "source": [
    "data = pd.read_csv('Truncated_noOutliers.csv')"
   ]
  },
  {
   "cell_type": "code",
   "execution_count": 4,
   "metadata": {},
   "outputs": [
    {
     "data": {
      "text/html": [
       "<div>\n",
       "<style>\n",
       "    .dataframe thead tr:only-child th {\n",
       "        text-align: right;\n",
       "    }\n",
       "\n",
       "    .dataframe thead th {\n",
       "        text-align: left;\n",
       "    }\n",
       "\n",
       "    .dataframe tbody tr th {\n",
       "        vertical-align: top;\n",
       "    }\n",
       "</style>\n",
       "<table border=\"1\" class=\"dataframe\">\n",
       "  <thead>\n",
       "    <tr style=\"text-align: right;\">\n",
       "      <th></th>\n",
       "      <th>Tone</th>\n",
       "      <th>f1</th>\n",
       "      <th>f2</th>\n",
       "      <th>f3</th>\n",
       "      <th>f4</th>\n",
       "      <th>f5</th>\n",
       "      <th>f6</th>\n",
       "      <th>f7</th>\n",
       "      <th>f8</th>\n",
       "      <th>f9</th>\n",
       "      <th>f10</th>\n",
       "    </tr>\n",
       "  </thead>\n",
       "  <tbody>\n",
       "    <tr>\n",
       "      <th>0</th>\n",
       "      <td>1</td>\n",
       "      <td>300.00</td>\n",
       "      <td>300.00</td>\n",
       "      <td>300.00</td>\n",
       "      <td>300.00</td>\n",
       "      <td>300.00</td>\n",
       "      <td>300.00</td>\n",
       "      <td>300.00</td>\n",
       "      <td>300.000</td>\n",
       "      <td>300.000</td>\n",
       "      <td>330.000</td>\n",
       "    </tr>\n",
       "    <tr>\n",
       "      <th>1</th>\n",
       "      <td>1</td>\n",
       "      <td>273.35</td>\n",
       "      <td>291.57</td>\n",
       "      <td>291.57</td>\n",
       "      <td>291.57</td>\n",
       "      <td>291.57</td>\n",
       "      <td>291.57</td>\n",
       "      <td>273.35</td>\n",
       "      <td>18.223</td>\n",
       "      <td>18.223</td>\n",
       "      <td>18.223</td>\n",
       "    </tr>\n",
       "    <tr>\n",
       "      <th>2</th>\n",
       "      <td>1</td>\n",
       "      <td>270.00</td>\n",
       "      <td>292.50</td>\n",
       "      <td>270.00</td>\n",
       "      <td>292.50</td>\n",
       "      <td>292.50</td>\n",
       "      <td>270.00</td>\n",
       "      <td>247.50</td>\n",
       "      <td>292.500</td>\n",
       "      <td>225.000</td>\n",
       "      <td>270.000</td>\n",
       "    </tr>\n",
       "    <tr>\n",
       "      <th>3</th>\n",
       "      <td>1</td>\n",
       "      <td>298.26</td>\n",
       "      <td>276.96</td>\n",
       "      <td>276.96</td>\n",
       "      <td>276.96</td>\n",
       "      <td>276.96</td>\n",
       "      <td>234.35</td>\n",
       "      <td>276.96</td>\n",
       "      <td>276.960</td>\n",
       "      <td>21.304</td>\n",
       "      <td>21.304</td>\n",
       "    </tr>\n",
       "    <tr>\n",
       "      <th>4</th>\n",
       "      <td>1</td>\n",
       "      <td>287.61</td>\n",
       "      <td>287.61</td>\n",
       "      <td>287.61</td>\n",
       "      <td>287.61</td>\n",
       "      <td>287.61</td>\n",
       "      <td>287.61</td>\n",
       "      <td>287.61</td>\n",
       "      <td>263.640</td>\n",
       "      <td>23.967</td>\n",
       "      <td>23.967</td>\n",
       "    </tr>\n",
       "  </tbody>\n",
       "</table>\n",
       "</div>"
      ],
      "text/plain": [
       "   Tone      f1      f2      f3      f4      f5      f6      f7       f8  \\\n",
       "0     1  300.00  300.00  300.00  300.00  300.00  300.00  300.00  300.000   \n",
       "1     1  273.35  291.57  291.57  291.57  291.57  291.57  273.35   18.223   \n",
       "2     1  270.00  292.50  270.00  292.50  292.50  270.00  247.50  292.500   \n",
       "3     1  298.26  276.96  276.96  276.96  276.96  234.35  276.96  276.960   \n",
       "4     1  287.61  287.61  287.61  287.61  287.61  287.61  287.61  263.640   \n",
       "\n",
       "        f9      f10  \n",
       "0  300.000  330.000  \n",
       "1   18.223   18.223  \n",
       "2  225.000  270.000  \n",
       "3   21.304   21.304  \n",
       "4   23.967   23.967  "
      ]
     },
     "execution_count": 4,
     "metadata": {},
     "output_type": "execute_result"
    }
   ],
   "source": [
    "data.head()"
   ]
  },
  {
   "cell_type": "code",
   "execution_count": 5,
   "metadata": {
    "collapsed": true
   },
   "outputs": [],
   "source": [
    "y = data[\"Tone\"]"
   ]
  },
  {
   "cell_type": "code",
   "execution_count": 6,
   "metadata": {},
   "outputs": [
    {
     "name": "stdout",
     "output_type": "stream",
     "text": [
      "(965,)\n"
     ]
    }
   ],
   "source": [
    "print(y.shape)"
   ]
  },
  {
   "cell_type": "code",
   "execution_count": 13,
   "metadata": {},
   "outputs": [
    {
     "data": {
      "text/html": [
       "<div>\n",
       "<style>\n",
       "    .dataframe thead tr:only-child th {\n",
       "        text-align: right;\n",
       "    }\n",
       "\n",
       "    .dataframe thead th {\n",
       "        text-align: left;\n",
       "    }\n",
       "\n",
       "    .dataframe tbody tr th {\n",
       "        vertical-align: top;\n",
       "    }\n",
       "</style>\n",
       "<table border=\"1\" class=\"dataframe\">\n",
       "  <thead>\n",
       "    <tr style=\"text-align: right;\">\n",
       "      <th></th>\n",
       "      <th>f1</th>\n",
       "      <th>f2</th>\n",
       "      <th>f3</th>\n",
       "      <th>f4</th>\n",
       "      <th>f5</th>\n",
       "      <th>f6</th>\n",
       "      <th>f7</th>\n",
       "      <th>f8</th>\n",
       "      <th>f9</th>\n",
       "      <th>f10</th>\n",
       "    </tr>\n",
       "  </thead>\n",
       "  <tbody>\n",
       "    <tr>\n",
       "      <th>0</th>\n",
       "      <td>300.00</td>\n",
       "      <td>300.00</td>\n",
       "      <td>300.00</td>\n",
       "      <td>300.00</td>\n",
       "      <td>300.00</td>\n",
       "      <td>300.00</td>\n",
       "      <td>300.00</td>\n",
       "      <td>300.000</td>\n",
       "      <td>300.000</td>\n",
       "      <td>330.000</td>\n",
       "    </tr>\n",
       "    <tr>\n",
       "      <th>1</th>\n",
       "      <td>273.35</td>\n",
       "      <td>291.57</td>\n",
       "      <td>291.57</td>\n",
       "      <td>291.57</td>\n",
       "      <td>291.57</td>\n",
       "      <td>291.57</td>\n",
       "      <td>273.35</td>\n",
       "      <td>18.223</td>\n",
       "      <td>18.223</td>\n",
       "      <td>18.223</td>\n",
       "    </tr>\n",
       "    <tr>\n",
       "      <th>2</th>\n",
       "      <td>270.00</td>\n",
       "      <td>292.50</td>\n",
       "      <td>270.00</td>\n",
       "      <td>292.50</td>\n",
       "      <td>292.50</td>\n",
       "      <td>270.00</td>\n",
       "      <td>247.50</td>\n",
       "      <td>292.500</td>\n",
       "      <td>225.000</td>\n",
       "      <td>270.000</td>\n",
       "    </tr>\n",
       "    <tr>\n",
       "      <th>3</th>\n",
       "      <td>298.26</td>\n",
       "      <td>276.96</td>\n",
       "      <td>276.96</td>\n",
       "      <td>276.96</td>\n",
       "      <td>276.96</td>\n",
       "      <td>234.35</td>\n",
       "      <td>276.96</td>\n",
       "      <td>276.960</td>\n",
       "      <td>21.304</td>\n",
       "      <td>21.304</td>\n",
       "    </tr>\n",
       "    <tr>\n",
       "      <th>4</th>\n",
       "      <td>287.61</td>\n",
       "      <td>287.61</td>\n",
       "      <td>287.61</td>\n",
       "      <td>287.61</td>\n",
       "      <td>287.61</td>\n",
       "      <td>287.61</td>\n",
       "      <td>287.61</td>\n",
       "      <td>263.640</td>\n",
       "      <td>23.967</td>\n",
       "      <td>23.967</td>\n",
       "    </tr>\n",
       "  </tbody>\n",
       "</table>\n",
       "</div>"
      ],
      "text/plain": [
       "       f1      f2      f3      f4      f5      f6      f7       f8       f9  \\\n",
       "0  300.00  300.00  300.00  300.00  300.00  300.00  300.00  300.000  300.000   \n",
       "1  273.35  291.57  291.57  291.57  291.57  291.57  273.35   18.223   18.223   \n",
       "2  270.00  292.50  270.00  292.50  292.50  270.00  247.50  292.500  225.000   \n",
       "3  298.26  276.96  276.96  276.96  276.96  234.35  276.96  276.960   21.304   \n",
       "4  287.61  287.61  287.61  287.61  287.61  287.61  287.61  263.640   23.967   \n",
       "\n",
       "       f10  \n",
       "0  330.000  \n",
       "1   18.223  \n",
       "2  270.000  \n",
       "3   21.304  \n",
       "4   23.967  "
      ]
     },
     "execution_count": 13,
     "metadata": {},
     "output_type": "execute_result"
    }
   ],
   "source": [
    "X_data = data.drop(['Tone'],axis=1)\n",
    "X_data.head()"
   ]
  },
  {
   "cell_type": "code",
   "execution_count": 14,
   "metadata": {},
   "outputs": [
    {
     "name": "stdout",
     "output_type": "stream",
     "text": [
      "[[ 300.     300.     300.     300.     300.     300.     300.     300.\n",
      "   300.     330.   ]\n",
      " [ 273.35   291.57   291.57   291.57   291.57   291.57   273.35    18.223\n",
      "    18.223   18.223]\n",
      " [ 270.     292.5    270.     292.5    292.5    270.     247.5    292.5\n",
      "   225.     270.   ]\n",
      " [ 298.26   276.96   276.96   276.96   276.96   234.35   276.96   276.96\n",
      "    21.304   21.304]\n",
      " [ 287.61   287.61   287.61   287.61   287.61   287.61   287.61   263.64\n",
      "    23.967   23.967]\n",
      " [  25.64   307.67   307.67   307.67   307.67   307.67   307.67   307.67\n",
      "   307.67   282.03 ]\n",
      " [  21.724  304.14   304.14   304.14    21.724   21.724   21.724   21.724\n",
      "    21.724    0.   ]\n",
      " [ 300.16   300.16   277.07   277.07   253.98   253.98   230.89   300.16\n",
      "   207.8    207.8  ]\n",
      " [ 298.26   298.26   298.26   276.96   255.65   234.35   255.65   234.35\n",
      "   255.65   234.35 ]\n",
      " [ 282.99   282.99   282.99   282.99   282.99   282.99   259.41   259.41\n",
      "   282.99   282.99 ]]\n"
     ]
    }
   ],
   "source": [
    "X = X_data.as_matrix()\n",
    "print(X[:10])"
   ]
  },
  {
   "cell_type": "code",
   "execution_count": 15,
   "metadata": {
    "collapsed": true
   },
   "outputs": [],
   "source": [
    "from sklearn.model_selection import train_test_split\n",
    "X_train, X_test, y_train, y_test = train_test_split(X, y, test_size = 0.2, random_state = 42)"
   ]
  },
  {
   "cell_type": "code",
   "execution_count": 16,
   "metadata": {},
   "outputs": [
    {
     "name": "stdout",
     "output_type": "stream",
     "text": [
      "(772, 10)\n",
      "(193, 10)\n",
      "(772,)\n",
      "(193,)\n"
     ]
    }
   ],
   "source": [
    "print(X_train.shape)\n",
    "print(X_test.shape)\n",
    "print(y_train.shape)\n",
    "print(y_test.shape)"
   ]
  },
  {
   "cell_type": "code",
   "execution_count": 19,
   "metadata": {
    "collapsed": true
   },
   "outputs": [],
   "source": [
    "# set up pipeline\n",
    "rbf_kernel_svm = Pipeline((\n",
    "        (\"scaler\", StandardScaler()),\n",
    "        (\"svm_clf\", SVC(kernel = 'rbf', gamma = 0.125, C = 32))\n",
    "    ))"
   ]
  },
  {
   "cell_type": "code",
   "execution_count": 20,
   "metadata": {},
   "outputs": [
    {
     "data": {
      "text/plain": [
       "Pipeline(steps=(('scaler', StandardScaler(copy=True, with_mean=True, with_std=True)), ('svm_clf', SVC(C=32, cache_size=200, class_weight=None, coef0=0.0,\n",
       "  decision_function_shape=None, degree=3, gamma=0.125, kernel='rbf',\n",
       "  max_iter=-1, probability=False, random_state=None, shrinking=True,\n",
       "  tol=0.001, verbose=False))))"
      ]
     },
     "execution_count": 20,
     "metadata": {},
     "output_type": "execute_result"
    }
   ],
   "source": [
    "# fit model to data:\n",
    "rbf_kernel_svm.fit(X_train, y_train)"
   ]
  },
  {
   "cell_type": "code",
   "execution_count": 21,
   "metadata": {
    "collapsed": true
   },
   "outputs": [],
   "source": [
    "y_predict = rbf_kernel_svm.predict(X_test)"
   ]
  },
  {
   "cell_type": "code",
   "execution_count": 22,
   "metadata": {},
   "outputs": [
    {
     "name": "stdout",
     "output_type": "stream",
     "text": [
      "Accuracy score: 0.865284974093\n"
     ]
    }
   ],
   "source": [
    "from sklearn.metrics import accuracy_score\n",
    "print('Accuracy score:', accuracy_score(y_test, y_predict))"
   ]
  },
  {
   "cell_type": "markdown",
   "metadata": {},
   "source": [
    "# Saving the model"
   ]
  },
  {
   "cell_type": "code",
   "execution_count": 23,
   "metadata": {
    "collapsed": true
   },
   "outputs": [],
   "source": [
    "import pickle"
   ]
  },
  {
   "cell_type": "code",
   "execution_count": 24,
   "metadata": {
    "collapsed": true
   },
   "outputs": [],
   "source": [
    "filename = 'okmodel.sav'\n",
    "pickle.dump(rbf_kernel_svm, open(filename, 'wb'))"
   ]
  },
  {
   "cell_type": "markdown",
   "metadata": {},
   "source": [
    "### Loading the model"
   ]
  },
  {
   "cell_type": "code",
   "execution_count": 25,
   "metadata": {},
   "outputs": [
    {
     "name": "stdout",
     "output_type": "stream",
     "text": [
      "0.865284974093\n"
     ]
    }
   ],
   "source": [
    "loaded_model = pickle.load(open(filename, 'rb'))\n",
    "result = loaded_model.score(X_test, y_test)\n",
    "print(result)"
   ]
  },
  {
   "cell_type": "markdown",
   "metadata": {},
   "source": [
    "Old notes:\n",
    "* Tests on sample data\n",
    "* Grid search (paper says: ' After grid search for the parameter C and gamma, we get the best results when C is set to 32 and gamma is set to 0.125. The best model produces the recognition accuracy 74.75% which is slightly better than best result of one-hidden-layer MLP.')\n",
    "* Confusion matrix"
   ]
  },
  {
   "cell_type": "code",
   "execution_count": 20,
   "metadata": {},
   "outputs": [
    {
     "name": "stdout",
     "output_type": "stream",
     "text": [
      "gamma: 0.05 C: 0.5 Accuracy score: 0.362745098039\n",
      "gamma: 0.05 C: 1 Accuracy score: 0.382352941176\n",
      "gamma: 0.05 C: 5 Accuracy score: 0.343137254902\n",
      "gamma: 0.1 C: 0.5 Accuracy score: 0.401960784314\n",
      "gamma: 0.1 C: 1 Accuracy score: 0.401960784314\n",
      "gamma: 0.1 C: 5 Accuracy score: 0.352941176471\n",
      "gamma: 0.5 C: 0.5 Accuracy score: 0.352941176471\n",
      "gamma: 0.5 C: 1 Accuracy score: 0.352941176471\n",
      "gamma: 0.5 C: 5 Accuracy score: 0.382352941176\n"
     ]
    }
   ],
   "source": [
    "# grid search\n",
    "gammas = [0.05, 0.1, 0.5]\n",
    "Cs = [0.5, 1, 5]\n",
    "\n",
    "for i in gammas:\n",
    "    for j in Cs:\n",
    "        rbf_kernel_svm = Pipeline((\n",
    "                (\"scaler\", StandardScaler()),\n",
    "                (\"svm_clf\", SVC(kernel = 'rbf', gamma = i, C = j))\n",
    "            ))\n",
    "\n",
    "        # fit model to data:\n",
    "        rbf_kernel_svm.fit(X_train, y_train)\n",
    "        y_predict = rbf_kernel_svm.predict(X_test)\n",
    "        print('gamma:', i, 'C:', j, 'Accuracy score:', accuracy_score(y_test, y_predict))"
   ]
  },
  {
   "cell_type": "code",
   "execution_count": 15,
   "metadata": {},
   "outputs": [
    {
     "data": {
      "text/plain": [
       "<matplotlib.image.AxesImage at 0x1aa621d0>"
      ]
     },
     "execution_count": 15,
     "metadata": {},
     "output_type": "execute_result"
    },
    {
     "data": {
      "image/png": "[encoded data removed]",
      "text/plain": [
       "<matplotlib.figure.Figure at 0x17f56320>"
      ]
     },
     "metadata": {},
     "output_type": "display_data"
    }
   ],
   "source": [
    "from sklearn.metrics import confusion_matrix\n",
    "import matplotlib.pyplot as plt\n",
    "%matplotlib inline\n",
    "\n",
    "cm = confusion_matrix(y_test, y_predict)\n",
    "plt.matshow(cm, cmap = 'gray')"
   ]
  },
  {
   "cell_type": "markdown",
   "metadata": {
    "collapsed": true
   },
   "source": [
    "## Testing on team's speech data"
   ]
  },
  {
   "cell_type": "code",
   "execution_count": 77,
   "metadata": {},
   "outputs": [
    {
     "data": {
      "text/html": [
       "<div>\n",
       "<style scoped>\n",
       "    .dataframe tbody tr th:only-of-type {\n",
       "        vertical-align: middle;\n",
       "    }\n",
       "\n",
       "    .dataframe tbody tr th {\n",
       "        vertical-align: top;\n",
       "    }\n",
       "\n",
       "    .dataframe thead th {\n",
       "        text-align: right;\n",
       "    }\n",
       "</style>\n",
       "<table border=\"1\" class=\"dataframe\">\n",
       "  <thead>\n",
       "    <tr style=\"text-align: right;\">\n",
       "      <th></th>\n",
       "      <th>Person</th>\n",
       "      <th>Tone</th>\n",
       "      <th>f1</th>\n",
       "      <th>f2</th>\n",
       "      <th>f3</th>\n",
       "      <th>f4</th>\n",
       "      <th>f5</th>\n",
       "      <th>f6</th>\n",
       "      <th>f7</th>\n",
       "      <th>f8</th>\n",
       "      <th>f9</th>\n",
       "      <th>f10</th>\n",
       "    </tr>\n",
       "  </thead>\n",
       "  <tbody>\n",
       "    <tr>\n",
       "      <th>0</th>\n",
       "      <td>67</td>\n",
       "      <td>1</td>\n",
       "      <td>143</td>\n",
       "      <td>143</td>\n",
       "      <td>143</td>\n",
       "      <td>143</td>\n",
       "      <td>143</td>\n",
       "      <td>143</td>\n",
       "      <td>143</td>\n",
       "      <td>143</td>\n",
       "      <td>48</td>\n",
       "      <td>48</td>\n",
       "    </tr>\n",
       "    <tr>\n",
       "      <th>1</th>\n",
       "      <td>67</td>\n",
       "      <td>1</td>\n",
       "      <td>137</td>\n",
       "      <td>137</td>\n",
       "      <td>137</td>\n",
       "      <td>137</td>\n",
       "      <td>255</td>\n",
       "      <td>137</td>\n",
       "      <td>137</td>\n",
       "      <td>137</td>\n",
       "      <td>137</td>\n",
       "      <td>0</td>\n",
       "    </tr>\n",
       "    <tr>\n",
       "      <th>2</th>\n",
       "      <td>67</td>\n",
       "      <td>2</td>\n",
       "      <td>0</td>\n",
       "      <td>0</td>\n",
       "      <td>41</td>\n",
       "      <td>81</td>\n",
       "      <td>81</td>\n",
       "      <td>81</td>\n",
       "      <td>0</td>\n",
       "      <td>122</td>\n",
       "      <td>122</td>\n",
       "      <td>122</td>\n",
       "    </tr>\n",
       "    <tr>\n",
       "      <th>3</th>\n",
       "      <td>67</td>\n",
       "      <td>2</td>\n",
       "      <td>89</td>\n",
       "      <td>89</td>\n",
       "      <td>255</td>\n",
       "      <td>255</td>\n",
       "      <td>255</td>\n",
       "      <td>255</td>\n",
       "      <td>255</td>\n",
       "      <td>222</td>\n",
       "      <td>89</td>\n",
       "      <td>89</td>\n",
       "    </tr>\n",
       "    <tr>\n",
       "      <th>4</th>\n",
       "      <td>67</td>\n",
       "      <td>3</td>\n",
       "      <td>117</td>\n",
       "      <td>0</td>\n",
       "      <td>0</td>\n",
       "      <td>0</td>\n",
       "      <td>78</td>\n",
       "      <td>78</td>\n",
       "      <td>255</td>\n",
       "      <td>0</td>\n",
       "      <td>0</td>\n",
       "      <td>0</td>\n",
       "    </tr>\n",
       "  </tbody>\n",
       "</table>\n",
       "</div>"
      ],
      "text/plain": [
       "   Person  Tone   f1   f2   f3   f4   f5   f6   f7   f8   f9  f10\n",
       "0      67     1  143  143  143  143  143  143  143  143   48   48\n",
       "1      67     1  137  137  137  137  255  137  137  137  137    0\n",
       "2      67     2    0    0   41   81   81   81    0  122  122  122\n",
       "3      67     2   89   89  255  255  255  255  255  222   89   89\n",
       "4      67     3  117    0    0    0   78   78  255    0    0    0"
      ]
     },
     "execution_count": 77,
     "metadata": {},
     "output_type": "execute_result"
    }
   ],
   "source": [
    "test_data = pd.read_csv('namedtest.csv')\n",
    "test_data.head()"
   ]
  },
  {
   "cell_type": "code",
   "execution_count": 82,
   "metadata": {},
   "outputs": [
    {
     "data": {
      "text/html": [
       "<div>\n",
       "<style scoped>\n",
       "    .dataframe tbody tr th:only-of-type {\n",
       "        vertical-align: middle;\n",
       "    }\n",
       "\n",
       "    .dataframe tbody tr th {\n",
       "        vertical-align: top;\n",
       "    }\n",
       "\n",
       "    .dataframe thead th {\n",
       "        text-align: right;\n",
       "    }\n",
       "</style>\n",
       "<table border=\"1\" class=\"dataframe\">\n",
       "  <thead>\n",
       "    <tr style=\"text-align: right;\">\n",
       "      <th></th>\n",
       "      <th>Tone</th>\n",
       "      <th>f1</th>\n",
       "      <th>f2</th>\n",
       "      <th>f3</th>\n",
       "      <th>f4</th>\n",
       "      <th>f5</th>\n",
       "      <th>f6</th>\n",
       "      <th>f7</th>\n",
       "      <th>f8</th>\n",
       "      <th>f9</th>\n",
       "      <th>f10</th>\n",
       "    </tr>\n",
       "  </thead>\n",
       "  <tbody>\n",
       "    <tr>\n",
       "      <th>0</th>\n",
       "      <td>1</td>\n",
       "      <td>143</td>\n",
       "      <td>143</td>\n",
       "      <td>143</td>\n",
       "      <td>143</td>\n",
       "      <td>143</td>\n",
       "      <td>143</td>\n",
       "      <td>143</td>\n",
       "      <td>143</td>\n",
       "      <td>48</td>\n",
       "      <td>48</td>\n",
       "    </tr>\n",
       "    <tr>\n",
       "      <th>1</th>\n",
       "      <td>1</td>\n",
       "      <td>137</td>\n",
       "      <td>137</td>\n",
       "      <td>137</td>\n",
       "      <td>137</td>\n",
       "      <td>255</td>\n",
       "      <td>137</td>\n",
       "      <td>137</td>\n",
       "      <td>137</td>\n",
       "      <td>137</td>\n",
       "      <td>0</td>\n",
       "    </tr>\n",
       "    <tr>\n",
       "      <th>2</th>\n",
       "      <td>2</td>\n",
       "      <td>0</td>\n",
       "      <td>0</td>\n",
       "      <td>41</td>\n",
       "      <td>81</td>\n",
       "      <td>81</td>\n",
       "      <td>81</td>\n",
       "      <td>0</td>\n",
       "      <td>122</td>\n",
       "      <td>122</td>\n",
       "      <td>122</td>\n",
       "    </tr>\n",
       "    <tr>\n",
       "      <th>3</th>\n",
       "      <td>2</td>\n",
       "      <td>89</td>\n",
       "      <td>89</td>\n",
       "      <td>255</td>\n",
       "      <td>255</td>\n",
       "      <td>255</td>\n",
       "      <td>255</td>\n",
       "      <td>255</td>\n",
       "      <td>222</td>\n",
       "      <td>89</td>\n",
       "      <td>89</td>\n",
       "    </tr>\n",
       "    <tr>\n",
       "      <th>4</th>\n",
       "      <td>3</td>\n",
       "      <td>117</td>\n",
       "      <td>0</td>\n",
       "      <td>0</td>\n",
       "      <td>0</td>\n",
       "      <td>78</td>\n",
       "      <td>78</td>\n",
       "      <td>255</td>\n",
       "      <td>0</td>\n",
       "      <td>0</td>\n",
       "      <td>0</td>\n",
       "    </tr>\n",
       "  </tbody>\n",
       "</table>\n",
       "</div>"
      ],
      "text/plain": [
       "   Tone   f1   f2   f3   f4   f5   f6   f7   f8   f9  f10\n",
       "0     1  143  143  143  143  143  143  143  143   48   48\n",
       "1     1  137  137  137  137  255  137  137  137  137    0\n",
       "2     2    0    0   41   81   81   81    0  122  122  122\n",
       "3     2   89   89  255  255  255  255  255  222   89   89\n",
       "4     3  117    0    0    0   78   78  255    0    0    0"
      ]
     },
     "execution_count": 82,
     "metadata": {},
     "output_type": "execute_result"
    }
   ],
   "source": [
    "test_charlie = test_data.loc[test_data['Person']==67]\n",
    "test_dave = test_data.loc[test_data['Person']==68]\n",
    "test_elena = test_data.loc[test_data['Person']==69]\n",
    "\n",
    "#drop person columns\n",
    "test_charlie = test_charlie.drop(columns = ['Person'])\n",
    "test_dave = test_dave.drop(columns = ['Person'])\n",
    "test_elena = test_elena.drop(columns = ['Person'])\n",
    "test_charlie.head()"
   ]
  },
  {
   "cell_type": "markdown",
   "metadata": {},
   "source": [
    "## Charlie's data"
   ]
  },
  {
   "cell_type": "code",
   "execution_count": 83,
   "metadata": {},
   "outputs": [
    {
     "name": "stdout",
     "output_type": "stream",
     "text": [
      "Accuracy score: 0.0\n"
     ]
    },
    {
     "name": "stderr",
     "output_type": "stream",
     "text": [
      "C:\\Users\\ElenaRas\\Anaconda3\\lib\\site-packages\\sklearn\\utils\\validation.py:475: DataConversionWarning: Data with input dtype int64 was converted to float64 by StandardScaler.\n",
      "  warnings.warn(msg, DataConversionWarning)\n"
     ]
    },
    {
     "data": {
      "text/plain": [
       "<matplotlib.image.AxesImage at 0x64deb38>"
      ]
     },
     "execution_count": 83,
     "metadata": {},
     "output_type": "execute_result"
    },
    {
     "data": {
      "image/png": "[encoded data removed]",
      "text/plain": [
       "<matplotlib.figure.Figure at 0x632dcf8>"
      ]
     },
     "metadata": {},
     "output_type": "display_data"
    }
   ],
   "source": [
    "y_test = test_charlie[\"Tone\"]\n",
    "X_test_data = test_charlie.drop(columns = ['Tone'])\n",
    "X_test_data.head()\n",
    "X_test = X_test_data.as_matrix()\n",
    "\n",
    "# fit model to data:\n",
    "rbf_kernel_svm.fit(X, y)\n",
    "\n",
    "# make predictions on team's speech data\n",
    "y_predict = rbf_kernel_svm.predict(X_test)\n",
    "print('Accuracy score:', accuracy_score(y_test, y_predict))\n",
    "cm = confusion_matrix(y_test, y_predict)\n",
    "plt.matshow(cm, cmap = 'gray')"
   ]
  },
  {
   "cell_type": "markdown",
   "metadata": {},
   "source": [
    "## Dave's data"
   ]
  },
  {
   "cell_type": "code",
   "execution_count": 85,
   "metadata": {},
   "outputs": [
    {
     "name": "stdout",
     "output_type": "stream",
     "text": [
      "Accuracy score: 0.555555555556\n"
     ]
    },
    {
     "name": "stderr",
     "output_type": "stream",
     "text": [
      "C:\\Users\\ElenaRas\\Anaconda3\\lib\\site-packages\\sklearn\\utils\\validation.py:475: DataConversionWarning: Data with input dtype int64 was converted to float64 by StandardScaler.\n",
      "  warnings.warn(msg, DataConversionWarning)\n"
     ]
    },
    {
     "data": {
      "text/plain": [
       "<matplotlib.image.AxesImage at 0x6587278>"
      ]
     },
     "execution_count": 85,
     "metadata": {},
     "output_type": "execute_result"
    },
    {
     "data": {
      "image/png": "[encoded data removed]",
      "text/plain": [
       "<matplotlib.figure.Figure at 0x64be550>"
      ]
     },
     "metadata": {},
     "output_type": "display_data"
    }
   ],
   "source": [
    "y_test = test_dave[\"Tone\"]\n",
    "X_test_data = test_dave.drop(columns = ['Tone'])\n",
    "X_test_data.head()\n",
    "X_test = X_test_data.as_matrix()\n",
    "\n",
    "# fit model to data:\n",
    "rbf_kernel_svm.fit(X, y)\n",
    "\n",
    "# make predictions on team's speech data\n",
    "y_predict = rbf_kernel_svm.predict(X_test)\n",
    "print('Accuracy score:', accuracy_score(y_test, y_predict))\n",
    "cm = confusion_matrix(y_test, y_predict)\n",
    "plt.matshow(cm, cmap = 'gray')"
   ]
  },
  {
   "cell_type": "markdown",
   "metadata": {},
   "source": [
    "## Elena's data"
   ]
  },
  {
   "cell_type": "code",
   "execution_count": 86,
   "metadata": {},
   "outputs": [
    {
     "name": "stdout",
     "output_type": "stream",
     "text": [
      "Accuracy score: 0.25\n"
     ]
    },
    {
     "name": "stderr",
     "output_type": "stream",
     "text": [
      "C:\\Users\\ElenaRas\\Anaconda3\\lib\\site-packages\\sklearn\\utils\\validation.py:475: DataConversionWarning: Data with input dtype int64 was converted to float64 by StandardScaler.\n",
      "  warnings.warn(msg, DataConversionWarning)\n"
     ]
    },
    {
     "data": {
      "text/plain": [
       "<matplotlib.image.AxesImage at 0x65d8d68>"
      ]
     },
     "execution_count": 86,
     "metadata": {},
     "output_type": "execute_result"
    },
    {
     "data": {
      "image/png": "[encoded data removed]",
      "text/plain": [
       "<matplotlib.figure.Figure at 0x64cc908>"
      ]
     },
     "metadata": {},
     "output_type": "display_data"
    }
   ],
   "source": [
    "y_test = test_elena[\"Tone\"]\n",
    "X_test_data = test_elena.drop(columns = ['Tone'])\n",
    "X_test_data.head()\n",
    "X_test = X_test_data.as_matrix()\n",
    "\n",
    "# fit model to data:\n",
    "rbf_kernel_svm.fit(X, y)\n",
    "\n",
    "# make predictions on team's speech data\n",
    "y_predict = rbf_kernel_svm.predict(X_test)\n",
    "print('Accuracy score:', accuracy_score(y_test, y_predict))\n",
    "cm = confusion_matrix(y_test, y_predict)\n",
    "plt.matshow(cm, cmap = 'gray')"
   ]
  }
 ],
 "metadata": {
  "kernelspec": {
   "display_name": "Python 3",
   "language": "python",
   "name": "python3"
  },
  "language_info": {
   "codemirror_mode": {
    "name": "ipython",
    "version": 3
   },
   "file_extension": ".py",
   "mimetype": "text/x-python",
   "name": "python",
   "nbconvert_exporter": "python",
   "pygments_lexer": "ipython3",
   "version": "3.6.1"
  }
 },
 "nbformat": 4,
 "nbformat_minor": 2
}
